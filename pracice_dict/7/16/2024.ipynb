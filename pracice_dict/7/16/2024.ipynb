{
 "cells": [
  {
   "cell_type": "markdown",
   "metadata": {},
   "source": [
    "Create a dictionary named phone_book with at least five entries where the keys are names and the values are phone numbers.\n"
   ]
  },
  {
   "cell_type": "code",
   "execution_count": 53,
   "metadata": {},
   "outputs": [
    {
     "name": "stdout",
     "output_type": "stream",
     "text": [
      "\n",
      " num of the anas is: 3409063523!!! \n",
      "\n",
      " num of the tuyyab is: 3463505881!!! \n",
      "\n",
      " num of the baba is: 3439560426!!! \n",
      "\n",
      " num of the hmza is: 3480100317!!! \n",
      "\n",
      " num of the lala is: 3439560426!!! \n"
     ]
    }
   ],
   "source": [
    "phon_book={\n",
    "    'anas':3409063523,\n",
    "    'tuyyab':3463505881,\n",
    "    'baba':3439560426,\n",
    "    'hmza':3480100317,\n",
    "    'lala':3439560426,\n",
    "\n",
    "}\n",
    "for name, num in phon_book.items():\n",
    "    print(f\"\\n num of the {name} is: {num}!!! \")\n",
    "    # print (f\" num of anas is {phon_book['anas']}\")  \n",
    "    # print (f\" num of tuyyab is {phon_book['tuyyab']}\")  \n",
    "    # print (f\" num of baba is {phon_book['baba']}\") \n",
    "    # print (f\" num of hmza is {phon_book['hmza']}\") \n",
    "    # print (f\" num of lala is {phon_book['laa']}\") \n",
    "\n",
    "\n",
    "\n"
   ]
  },
  {
   "cell_type": "code",
   "execution_count": null,
   "metadata": {},
   "outputs": [],
   "source": []
  },
  {
   "cell_type": "markdown",
   "metadata": {},
   "source": [
    "Accessing Values:\n",
    "\n",
    "Given the dictionary student_grades = {'Alice': 90, 'Bob': 85, 'Charlie': 78}, how would you access Bob's grade?\n",
    "Accessing Values:\n",
    "\n",
    "\n"
   ]
  },
  {
   "cell_type": "code",
   "execution_count": 3,
   "metadata": {},
   "outputs": [
    {
     "name": "stdout",
     "output_type": "stream",
     "text": [
      "90\n"
     ]
    }
   ],
   "source": [
    "student_grades={'anas':90,'ali':80,'mosa':70,'baba':40}\n",
    "\n",
    "print(student_grades['anas'])\n"
   ]
  },
  {
   "cell_type": "code",
   "execution_count": null,
   "metadata": {},
   "outputs": [],
   "source": [
    "student_grades={'anas':90,'ali':80,'mosa':70,'baba':40}\n",
    "grad['nome']=45"
   ]
  },
  {
   "cell_type": "markdown",
   "metadata": {},
   "source": [
    "Updating Values:\n",
    "\n",
    "Update Alice's grade in the student_grades dictionary to 95"
   ]
  },
  {
   "cell_type": "code",
   "execution_count": 18,
   "metadata": {},
   "outputs": [
    {
     "name": "stdout",
     "output_type": "stream",
     "text": [
      " the apdat student_grades is: ali  80\n",
      " the apdat student_grades is: mosa  70\n",
      " the apdat student_grades is: baba  40\n"
     ]
    }
   ],
   "source": [
    "student_grades={'anas':90,'ali':80,'mosa':70,'baba':40}\n",
    "student_grades['anas']=95\n",
    "del student_grades['anas']\n",
    "for student, grade in student_grades.items():\n",
    "\n",
    "    print(f\" the apdat student_grades is: {student}  {grade}\")"
   ]
  },
  {
   "cell_type": "code",
   "execution_count": null,
   "metadata": {},
   "outputs": [],
   "source": [
    "()"
   ]
  },
  {
   "cell_type": "markdown",
   "metadata": {},
   "source": [
    "Adding Entries:\n",
    "\n",
    "Add a new entry to the student_grades dictionary for a student named 'Diana' with a grade of 88."
   ]
  },
  {
   "cell_type": "code",
   "execution_count": 23,
   "metadata": {},
   "outputs": [
    {
     "name": "stdout",
     "output_type": "stream",
     "text": [
      "{'ali': 80, 'mosa': 70, 'baba': 40, 'danni': 78, 'chacho': 100}\n"
     ]
    }
   ],
   "source": [
    "tudent_grades={'anas':90,'ali':80,'mosa':70,'baba':40}\n",
    "student_grades['danni']=78\n",
    "student_grades['chacho']=100\n",
    "print(student_grades)\n"
   ]
  },
  {
   "cell_type": "markdown",
   "metadata": {},
   "source": [
    "Iterating through a Dictionary:\n",
    "\n",
    "Write a loop to print each student's name and grade from the student_grades dictionary"
   ]
  },
  {
   "cell_type": "code",
   "execution_count": 27,
   "metadata": {},
   "outputs": [
    {
     "name": "stdout",
     "output_type": "stream",
     "text": [
      "\n",
      " the grade of ali: is 80\n",
      "\n",
      " the grade of mosa: is 70\n",
      "\n",
      " the grade of baba: is 40\n",
      "\n",
      " the grade of danni: is 78\n",
      "\n",
      " the grade of chacho: is 100\n"
     ]
    }
   ],
   "source": [
    "tudent_grades={'anas':90,'ali':80,'mosa':70,'baba':40}\n",
    "for name, grade in student_grades.items():\n",
    "    print(f\"\\n the grade of {name}: is {grade}\")\n",
    "    # print(grade)"
   ]
  },
  {
   "cell_type": "markdown",
   "metadata": {},
   "source": [
    "Conditional Logic:\n",
    "\n",
    "Modify the loop to print only the names of students who have grades above 80."
   ]
  },
  {
   "cell_type": "code",
   "execution_count": 3,
   "metadata": {},
   "outputs": [
    {
     "name": "stdout",
     "output_type": "stream",
     "text": [
      " anas's grade above 80: 90\n",
      " azam's grade above 80: 98\n",
      " eesa's grade above 80: 91\n",
      " kame's grade above 80: 98\n"
     ]
    }
   ],
   "source": [
    "tudent_grades={'anas':90,'ali':80,'mosa':70,'baba':40,'azam':98,'eesa':91,'kame':98}\n",
    "for student, grade in student_grades.items():\n",
    "    if grade>80:\n",
    "        print(f\" {student}'s grade above 80: {grade}\")\n",
    "\n"
   ]
  },
  {
   "cell_type": "code",
   "execution_count": 1,
   "metadata": {},
   "outputs": [
    {
     "name": "stdout",
     "output_type": "stream",
     "text": [
      "anas's grade is above 80.\n",
      "azam's grade is above 80.\n",
      "eesa's grade is above 80.\n",
      "kame's grade is above 80.\n"
     ]
    }
   ],
   "source": [
    "student_grades = {'anas': 90, 'ali': 80, 'mosa': 70, 'baba': 40, 'azam': 98, 'eesa': 91, 'kame': 98}\n",
    "\n",
    "for student, grade in student_grades.items():\n",
    "    if grade > 80:\n",
    "        print(f\"{student}'s grade is above 80.\")\n"
   ]
  },
  {
   "cell_type": "markdown",
   "metadata": {},
   "source": [
    "Create a dictionary named students where each key is a student's name and the value is another dictionary containing their 'age', 'grade', and 'city'. Write a loop to print each student's name and details."
   ]
  },
  {
   "cell_type": "code",
   "execution_count": 4,
   "metadata": {},
   "outputs": [
    {
     "ename": "SyntaxError",
     "evalue": "unmatched '}' (3390420267.py, line 6)",
     "output_type": "error",
     "traceback": [
      "\u001b[1;36m  Cell \u001b[1;32mIn[4], line 6\u001b[1;36m\u001b[0m\n\u001b[1;33m    }\u001b[0m\n\u001b[1;37m    ^\u001b[0m\n\u001b[1;31mSyntaxError\u001b[0m\u001b[1;31m:\u001b[0m unmatched '}'\n"
     ]
    }
   ],
   "source": [
    "student={ \n",
    "    'anas',{'age':23,'grade':90,'city':'naran'},\n",
    "    'azam',{'age':25,'grade':87,'city':'abbottabad}',\n",
    "    'kami',{'age':28,'grade':89,'city':'meyanwali'},\n",
    "    'mosa',{'age':27,'grade':84,'city':'lahoor'}"
   ]
  },
  {
   "cell_type": "code",
   "execution_count": null,
   "metadata": {},
   "outputs": [],
   "source": []
  },
  {
   "cell_type": "code",
   "execution_count": null,
   "metadata": {},
   "outputs": [],
   "source": []
  },
  {
   "cell_type": "code",
   "execution_count": null,
   "metadata": {},
   "outputs": [],
   "source": [
    ",\n",
    "}\n",
    "\n",
    "\n",
    "\n"
   ]
  }
 ],
 "metadata": {
  "kernelspec": {
   "display_name": "Python 3",
   "language": "python",
   "name": "python3"
  },
  "language_info": {
   "codemirror_mode": {
    "name": "ipython",
    "version": 3
   },
   "file_extension": ".py",
   "mimetype": "text/x-python",
   "name": "python",
   "nbconvert_exporter": "python",
   "pygments_lexer": "ipython3",
   "version": "3.12.3"
  }
 },
 "nbformat": 4,
 "nbformat_minor": 2
}
